{
 "cells": [
  {
   "cell_type": "code",
   "execution_count": 13,
   "metadata": {},
   "outputs": [
    {
     "name": "stdout",
     "output_type": "stream",
     "text": [
      "1 12\n",
      "2 6\n",
      "3 4\n",
      "4 3\n",
      "5 7\n",
      "After 5\n"
     ]
    }
   ],
   "source": [
    "#To count the number of elements in a list\n",
    "count = 0\n",
    "x = [12,6,4,3,7]\n",
    "for i in x:\n",
    "    count = count + 1\n",
    "    print(count, i)\n",
    "print(\"After\", count)"
   ]
  },
  {
   "cell_type": "code",
   "execution_count": 14,
   "metadata": {},
   "outputs": [
    {
     "name": "stdout",
     "output_type": "stream",
     "text": [
      "2 2\n",
      "5 3\n",
      "9 4\n",
      "14 5\n",
      "final sum =  14\n"
     ]
    }
   ],
   "source": [
    "#code to add elements in a list\n",
    "sum = 0\n",
    "x = [2,3,4,5]\n",
    "for i in x:\n",
    "    sum = sum + i\n",
    "    print(sum, i)\n",
    "print(\"final sum = \" , sum)"
   ]
  },
  {
   "cell_type": "code",
   "execution_count": 10,
   "metadata": {},
   "outputs": [
    {
     "name": "stdout",
     "output_type": "stream",
     "text": [
      "['1', '2', '3', '4', '5', '6']\n",
      "[1, 2, 3, 4, 5, 6]\n",
      "1 1\n",
      "2 2\n",
      "3 3\n",
      "4 4\n",
      "5 5\n",
      "6 6\n",
      "final sum  6\n"
     ]
    }
   ],
   "source": [
    "s = 0\n",
    "x = input(\"please enter six numbers seperated by a comma only: \")\n",
    "p = x.split(',')\n",
    "print(p)\n",
    "\n",
    "n = list()\n",
    "for i in p:\n",
    "    n.append(int(i))\n",
    "print(n)\n",
    "\n",
    "for i in n:\n",
    "    s = s+1\n",
    "    print(s,i)\n",
    "print(\"final sum \", s)\n"
   ]
  },
  {
   "cell_type": "code",
   "execution_count": 14,
   "metadata": {},
   "outputs": [
    {
     "name": "stdout",
     "output_type": "stream",
     "text": [
      "[2, 3, 4, 5, 6, 7, 8, 9]\n"
     ]
    }
   ],
   "source": [
    "#code that uses a while loop to restrict the number of numbers a user can enter\n",
    "s = []\n",
    "\n",
    "t = 8\n",
    "while t > 0:\n",
    "    s.append(int(input(\"Please enter 6 numbers one after the other pressing enter each time:\")))\n",
    "    t -= 1\n",
    "print(s)\n",
    "\n",
    "\n",
    "      "
   ]
  },
  {
   "cell_type": "code",
   "execution_count": 23,
   "metadata": {},
   "outputs": [
    {
     "name": "stdout",
     "output_type": "stream",
     "text": [
      "[10, 12, 12, 10]\n",
      "final count =  4 final sum =  44\n",
      "('This is the average', 11.0)\n"
     ]
    }
   ],
   "source": [
    "\"\"\"code that uses the break function to limit the number of numbers the user can enter , \n",
    "then finds the avg of said nubers using a function, I'm sure there are some unneccessary lines here lol\"\"\"\n",
    "\n",
    "def average(sum,count):\n",
    "    avg = (sum/count)\n",
    "    return (\"This is the average\", avg)\n",
    "\n",
    "\n",
    "S = None\n",
    "C = None\n",
    "w = []\n",
    "while True:\n",
    "    p = (input(\"please enter numbers:\"))\n",
    "    if p == \"done\" : \n",
    "       break\n",
    "    try:\n",
    "        r = int(p)\n",
    "        w.append(r)\n",
    "    except:\n",
    "        p = str()\n",
    "    \n",
    "    \n",
    "print(w)\n",
    "S = 0\n",
    "C = 0\n",
    "    \n",
    "for i in w:\n",
    "    S = S + i\n",
    "    C = C + 1\n",
    "print(\"final count = \", C, \"final sum = \", S)\n",
    "\n",
    "t = average(S,C)\n",
    "print(t)\n"
   ]
  },
  {
   "cell_type": "code",
   "execution_count": 15,
   "metadata": {},
   "outputs": [
    {
     "name": "stdout",
     "output_type": "stream",
     "text": [
      "sum =  2 count=  1  average = 2.0\n",
      "sum =  6 count=  2  average = 3.0\n",
      "sum =  12 count=  3  average = 4.0\n",
      "sum =  20 count=  4  average = 5.0\n"
     ]
    }
   ],
   "source": [
    "#code to show average of elements in a list\n",
    "sum = 0\n",
    "count = 0\n",
    "x = [2,4,6,8]\n",
    "for i in x:\n",
    "    sum = (sum + i)\n",
    "    count = (count + 1)\n",
    "    average = (sum/count)\n",
    "    print(\"sum = \", sum, \"count= \", count, \" average =\" , average)"
   ]
  },
  {
   "cell_type": "code",
   "execution_count": 16,
   "metadata": {},
   "outputs": [
    {
     "name": "stdout",
     "output_type": "stream",
     "text": [
      "23 is a large number\n",
      "45 is a large number\n",
      "34 is a large number\n",
      "23 is a large number\n",
      "done\n"
     ]
    }
   ],
   "source": [
    "#code to find values bigger than 20\n",
    "x =[23,6,45,8,34,6,23,4]\n",
    "for i in x:\n",
    "    if i > 20:\n",
    "        print(i, \"is a large number\")\n",
    "print(\"done\")"
   ]
  },
  {
   "cell_type": "code",
   "execution_count": 17,
   "metadata": {},
   "outputs": [
    {
     "name": "stdout",
     "output_type": "stream",
     "text": [
      "BEFORE SEARCHING False\n",
      "Was 4 found True\n"
     ]
    }
   ],
   "source": [
    "#code to search for a particular number in a list of numbers, when found remains true until end(UNCOMMENT TO SEE) indicating that the number is in the list.\n",
    "\n",
    "found = False\n",
    "print(\"BEFORE SEARCHING\" ,found)\n",
    "for i in [6,5,3,6, 4,5]:\n",
    "    if i == 4:\n",
    "        found = True\n",
    "    #print(found,i)\n",
    "    \n",
    "print(\"Was 4 found\", found)\n",
    "    \n"
   ]
  },
  {
   "cell_type": "code",
   "execution_count": 27,
   "metadata": {},
   "outputs": [
    {
     "name": "stdout",
     "output_type": "stream",
     "text": [
      "I found it!\n",
      "Before search False\n",
      "After search True\n"
     ]
    }
   ],
   "source": [
    "#code to find an item in a list\n",
    "x = [9,35,6,7,89,2]\n",
    "if 9 in x:\n",
    "    print('I found it!')\n",
    "    \n",
    "#also\n",
    "j = False\n",
    "print(\"Before search\", j)\n",
    "for i in x:\n",
    "    if i == 9:\n",
    "        found = True\n",
    "\n",
    "print('After search', found)"
   ]
  },
  {
   "cell_type": "code",
   "execution_count": 2,
   "metadata": {},
   "outputs": [
    {
     "name": "stdout",
     "output_type": "stream",
     "text": [
      "[1, 2, 3, 4, 5, 6, 4]\n",
      "1 1\n",
      "1 2\n",
      "1 3\n",
      "1 4\n",
      "1 5\n",
      "1 6\n",
      "1 4\n",
      "final answer =  1\n"
     ]
    }
   ],
   "source": [
    "#correct way to find smallest number, when list is not yet to be determined(taking user input to ensure former statement)\n",
    "\n",
    "n = 6 #number of number inputs needed\n",
    "k = list()\n",
    "while n >=0:\n",
    "    k.append(int(input(\"Please input 6 numbers, one after the other pressing enter after each input: \")))\n",
    "    n = n-1\n",
    "print(k)\n",
    "\n",
    "smallest = None\n",
    "for i in k:\n",
    "    if smallest is None:\n",
    "        smallest = i\n",
    "    elif  i < smallest:\n",
    "        smallest = i\n",
    "    print(smallest, i)\n",
    "    \n",
    "print(\"final answer = \", smallest)\n",
    "\n",
    "    "
   ]
  },
  {
   "cell_type": "code",
   "execution_count": null,
   "metadata": {},
   "outputs": [
    {
     "name": "stdout",
     "output_type": "stream",
     "text": [
      "Pay 498.75\n"
     ]
    }
   ],
   "source": [
    "hrs = input(\"Enter Hours:\")\n",
    "h = float(hrs)\n",
    "rate = input(\"Please enter the rate per hour:\")\n",
    "r = float(rate)\n",
    "    \n",
    "def computepay(h, r):    \n",
    "    if h <= 40:\n",
    "        value = ((h*r))\n",
    "    else:\n",
    "        value = ((40*r) + ((h-40)*1.5 * r))\n",
    "\n",
    "    return value\n",
    "\n",
    "\n",
    "test = computepay(h, r)\n",
    "print(\"Pay\" , test)\n",
    "\n",
    "\n",
    "\n"
   ]
  },
  {
   "cell_type": "code",
   "execution_count": null,
   "metadata": {},
   "outputs": [
    {
     "name": "stdout",
     "output_type": "stream",
     "text": [
      "error\n"
     ]
    }
   ],
   "source": [
    "#code that accepts acceptable range 0-1, and gives a score based on each value\n",
    "\n",
    "score = input(\"Enter Score: \")\n",
    "final_score = float(score)\n",
    "\n",
    "if final_score > 1.0:\n",
    "    print(\"error\")\n",
    "    \n",
    "elif final_score >= 0.9:\n",
    "    print(\"A\")\n",
    "\n",
    "elif final_score >= 0.8:\n",
    "    print(\"B\")\n",
    "    \n",
    "elif final_score >= 0.7:\n",
    "    print(\"C\")\n",
    "    \n",
    "elif final_score >= 0.6:\n",
    "    print(\"D\")\n",
    "    \n",
    "else:\n",
    "     print(\"F\")"
   ]
  },
  {
   "cell_type": "code",
   "execution_count": null,
   "metadata": {},
   "outputs": [
    {
     "name": "stdout",
     "output_type": "stream",
     "text": [
      "o 0\n",
      "r 1\n",
      "a 2\n",
      "n 3\n",
      "g 4\n",
      "e 5\n"
     ]
    }
   ],
   "source": [
    "#code that  gives the index of members of a string- while loop(looping through strings)\n",
    "fruit = \"orange\"\n",
    "index = 0\n",
    "while index < len(fruit):\n",
    "    letter = fruit[index]\n",
    "    print(letter, index)\n",
    "    index += 1"
   ]
  },
  {
   "cell_type": "code",
   "execution_count": null,
   "metadata": {},
   "outputs": [
    {
     "name": "stdout",
     "output_type": "stream",
     "text": [
      "p 0\n",
      "i 1\n",
      "n 2\n",
      "e 3\n",
      "a 4\n",
      "p 5\n",
      "p 6\n",
      "l 7\n",
      "e 8\n"
     ]
    }
   ],
   "source": [
    "#code that  gives the index of members of a string- for loop(looping through strings)\n",
    "fruit = \"pineapple\"\n",
    "index = 0\n",
    "for i in fruit:\n",
    "    letter = fruit[index]\n",
    "    print(letter, index)\n",
    "    index += 1\n",
    "    \n",
    "    "
   ]
  },
  {
   "cell_type": "code",
   "execution_count": 25,
   "metadata": {},
   "outputs": [
    {
     "name": "stdout",
     "output_type": "stream",
     "text": [
      "bananabanana"
     ]
    }
   ],
   "source": [
    "#code that print members of a string one by one - for loop\n",
    "fruit = \"banana\"\n",
    "for letter in fruit:\n",
    "    print(letter , end=\"\")\n",
    "\n",
    "#prove that python doesnt understand the word letter but accepts the variable assignment\n",
    "\"\"\"\n",
    "fruit = \"banana\"\n",
    "for i in fruit:\n",
    "    print(i, end=\"\")\n",
    "    \"\"\"\n",
    "    \n"
   ]
  },
  {
   "cell_type": "code",
   "execution_count": 31,
   "metadata": {},
   "outputs": [
    {
     "name": "stdout",
     "output_type": "stream",
     "text": [
      "1\n",
      "2\n",
      "3\n",
      "4\n",
      "5\n",
      "6\n",
      "7\n",
      "8\n",
      "9\n",
      "FINAL COUNT=  9\n"
     ]
    }
   ],
   "source": [
    "#counts the letters in a string..for loop\n",
    "fruit = \"pineapple\"\n",
    "count = 0\n",
    "for i in fruit:\n",
    "    count +=1\n",
    "    print(count)\n",
    "print('FINAL COUNT= ', count)\n",
    "\n"
   ]
  },
  {
   "cell_type": "code",
   "execution_count": 34,
   "metadata": {},
   "outputs": [
    {
     "name": "stdout",
     "output_type": "stream",
     "text": [
      "1\n",
      "2\n",
      "3\n",
      "4\n",
      "5\n",
      "6\n",
      "7\n",
      "8\n",
      "9\n",
      "10\n",
      "final count =  10\n"
     ]
    }
   ],
   "source": [
    "#counts the letters in a string....while loop\n",
    "count = 0\n",
    "fruit =\"watermelon\"\n",
    "while count < len(fruit):\n",
    "    count += 1\n",
    "    print(count)\n",
    "print(\"final count = \", count)\n"
   ]
  },
  {
   "cell_type": "code",
   "execution_count": 37,
   "metadata": {},
   "outputs": [
    {
     "name": "stdout",
     "output_type": "stream",
     "text": [
      "1\n",
      "2\n",
      "3\n",
      "final count=  3\n"
     ]
    }
   ],
   "source": [
    "# counts the number of times a appears in banana\n",
    "\n",
    "word = \"banana\"\n",
    "count = 0\n",
    "for i in word:\n",
    "    if i == \"a\":\n",
    "        count += 1\n",
    "        print(count)\n",
    "print(\"final count= \" , count)"
   ]
  },
  {
   "cell_type": "code",
   "execution_count": 46,
   "metadata": {},
   "outputs": [
    {
     "name": "stdout",
     "output_type": "stream",
     "text": [
      "Aseda\n",
      "Aseda Mart\n",
      "a Mart\n",
      "Aseda Martinson\n"
     ]
    }
   ],
   "source": [
    "#practices slicing a string(weird eg.sub 0 through 4)\n",
    "name = \"Aseda Martinson\"\n",
    "k =name[0:5]\n",
    "print(k)\n",
    "\n",
    "print(name[:10])\n",
    "print(name[4:10])\n",
    "print(name[0:])"
   ]
  },
  {
   "cell_type": "code",
   "execution_count": 54,
   "metadata": {},
   "outputs": [
    {
     "name": "stdout",
     "output_type": "stream",
     "text": [
      "Hellothere\n",
      "Hello there\n",
      "Hello there\n"
     ]
    }
   ],
   "source": [
    "#concatenating strings\n",
    "w = \"Hello\"\n",
    "y = w + \"there\"\n",
    "print(y) #note that it doesnt automatically add a space so concatenate space\n",
    "y = w + \" \" + \"there\"\n",
    "print(y)\n",
    "\n",
    "#otherwise...\n",
    "w = \"Hello\"\n",
    "y = \"there\"\n",
    "print(w,y)"
   ]
  },
  {
   "cell_type": "code",
   "execution_count": 58,
   "metadata": {},
   "outputs": [
    {
     "name": "stdout",
     "output_type": "stream",
     "text": [
      "Found it!\n",
      "1 this is a p\n",
      "2 this is a p\n"
     ]
    }
   ],
   "source": [
    "#using in as a logical operator\n",
    "w = \"apple\"\n",
    "\"a\" in w\n",
    "\n",
    "\"p\" in w\n",
    "\n",
    "if \"a\" in w:\n",
    "    print(\"Found it!\")\n",
    "    \n",
    "count = 0\n",
    "for i in w:\n",
    "    if i == \"p\":\n",
    "        count +=1\n",
    "        print(count, \"this is a p\")"
   ]
  },
  {
   "cell_type": "code",
   "execution_count": 1,
   "metadata": {},
   "outputs": [
    {
     "data": {
      "text/plain": [
       "True"
      ]
     },
     "execution_count": 1,
     "metadata": {},
     "output_type": "execute_result"
    }
   ],
   "source": [
    "#using in as a logical operator\n",
    "w = \"apple\"\n",
    "\"a\" in w\n",
    "\n",
    "\"p\" in w\n",
    "    "
   ]
  }
 ],
 "metadata": {
  "kernelspec": {
   "display_name": "Python 3.11.0 64-bit",
   "language": "python",
   "name": "python3"
  },
  "language_info": {
   "codemirror_mode": {
    "name": "ipython",
    "version": 3
   },
   "file_extension": ".py",
   "mimetype": "text/x-python",
   "name": "python",
   "nbconvert_exporter": "python",
   "pygments_lexer": "ipython3",
   "version": "3.11.0 (main, Oct 24 2022, 18:26:48) [MSC v.1933 64 bit (AMD64)]"
  },
  "orig_nbformat": 4,
  "vscode": {
   "interpreter": {
    "hash": "75e8471d87e00636ba5a6da732d109ea2939ec337ebc809347bd7606d2472ad3"
   }
  }
 },
 "nbformat": 4,
 "nbformat_minor": 2
}
